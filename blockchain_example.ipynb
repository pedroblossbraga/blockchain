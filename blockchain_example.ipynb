{
  "nbformat": 4,
  "nbformat_minor": 0,
  "metadata": {
    "colab": {
      "provenance": [],
      "authorship_tag": "ABX9TyPEQ05H27WBBhcbzSZhh6bL",
      "include_colab_link": true
    },
    "kernelspec": {
      "name": "python3",
      "display_name": "Python 3"
    },
    "language_info": {
      "name": "python"
    }
  },
  "cells": [
    {
      "cell_type": "markdown",
      "metadata": {
        "id": "view-in-github",
        "colab_type": "text"
      },
      "source": [
        "<a href=\"https://colab.research.google.com/github/pedroblossbraga/blockchain/blob/main/blockchain_example.ipynb\" target=\"_parent\"><img src=\"https://colab.research.google.com/assets/colab-badge.svg\" alt=\"Open In Colab\"/></a>"
      ]
    },
    {
      "cell_type": "markdown",
      "source": [
        "# Coding a Blockchain in Python\n",
        "\n",
        "\n",
        "The ideia is to demonstrate an implementation of a simple fictitious blockchain.\n",
        "\n",
        "In blockchains, transactions or events are stored in a sequence (a chain of blocks), so with this structure:\n",
        "- Events are cronologically aligned\n",
        "- Unwanted transactions are blocked\n",
        "- Each event has a information about the previous (a hash)\n",
        "- Are similar to linked lists, but it is not easy to access a data given an index, specifically because blockchain uses hashes.\n",
        "\n",
        "An example:\n",
        "\\begin{equation}\n",
        "t_0 : \\text{ Individual 1 sends 10 Coins for Individual 2}\\\\\n",
        "t_1 : \\text{ Individual 2 sends 30 Coins for Individual 3}\\\\\n",
        "t_2 : \\text{ Individual 3 sends 2 Coins for Individual 4}\\\\\n",
        "\\end{equation}\n",
        "\n",
        "Or\n",
        "\\begin{equation}\n",
        "t_0 : i_1 \\xrightarrow{10 \\text{C}} i_2\\\\\n",
        "t_1 : i_2 \\xrightarrow{30 \\text{C}} i_3\\\\\n",
        "t_2 : i_3 \\xrightarrow{2 \\text{C}} i_4\\\\\n",
        "\\end{equation}\n",
        "\n"
      ],
      "metadata": {
        "id": "mOPzQdlZclFQ"
      }
    },
    {
      "cell_type": "code",
      "execution_count": 4,
      "metadata": {
        "colab": {
          "base_uri": "https://localhost:8080/"
        },
        "id": "B03SngUycjTJ",
        "outputId": "99923b21-f0c2-43ac-fbb6-8ba9c88d4e0e"
      },
      "outputs": [
        {
          "output_type": "stream",
          "name": "stdout",
          "text": [
            "data: User 1 sends 3C to User 2-User 2 sends 7C to User 3-Initial string \n",
            "hash: 7ecc13bd9e9171f55d6565ec992f00b4ef108221c766f64a8de5f5abc2b8cda0\n"
          ]
        }
      ],
      "source": [
        "import hashlib\n",
        "\n",
        "class BlockChain:\n",
        "\n",
        "  def __init__(self, previous_hash, transaction_list):\n",
        "    self.previous_hash = previous_hash\n",
        "    self.transaction_list = transaction_list\n",
        "\n",
        "    self.block_data = '-'.join(transaction_list) + '-' + previous_hash\n",
        "    self.block_hash = hashlib.sha256(self.block_data.encode()).hexdigest()\n",
        "\n",
        "t1 = 'User 1 sends 3C to User 2' \n",
        "t2 = 'User 2 sends 7C to User 3' \n",
        "t3 = 'User 3 sends 10.2C to User 4' \n",
        "t4 = 'User 4 sends 8C to User 5' \n",
        "t5 = 'User 5 sends 1C to User 6' \n",
        "\n",
        "initial_block = BlockChain(previous_hash = 'Initial string',\n",
        "                           transaction_list = [t1, t2])\n",
        "print('data: {} \\nhash: {}'.format(initial_block.block_data, \n",
        "                                   initial_block.block_hash))"
      ]
    }
  ]
}